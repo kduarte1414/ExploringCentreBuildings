{
 "cells": [
  {
   "cell_type": "code",
   "execution_count": 1,
   "id": "908a23ed",
   "metadata": {},
   "outputs": [],
   "source": [
    "import pandas as pd \n",
    "import seaborn as sns\n",
    "import matplotlib.pyplot as plt\n",
    "import statsmodels.formula.api as smf\n",
    "import numpy as np"
   ]
  },
  {
   "cell_type": "code",
   "execution_count": 2,
   "id": "5036258b",
   "metadata": {},
   "outputs": [],
   "source": [
    "def rename_cols(dataframe): \n",
    "    dataframe.rename(columns = {\"Read Date\":\"date\",\"index\":\"day\"},inplace = True)"
   ]
  },
  {
   "cell_type": "code",
   "execution_count": 3,
   "id": "54eede90",
   "metadata": {},
   "outputs": [],
   "source": [
    "def add_occupancy(dataframe): \n",
    "    dataframe.loc[:,'occupied'] = 0\n",
    "    dataframe.loc[4:77,'occupied'] = 1\n",
    "    dataframe.loc[234:329,'occupied'] = 1\n",
    "    dataframe.loc[374:402,'occupied'] = 1/2\n",
    "    dataframe.loc[402:,'occupied'] = 1\n",
    "    return dataframe "
   ]
  },
  {
   "cell_type": "code",
   "execution_count": 4,
   "id": "a3631b68",
   "metadata": {},
   "outputs": [],
   "source": [
    "def add_capacity_and_sqft(dataframe, capacity, sq_ft): \n",
    "    dataframe.loc[:,'kw_per_person'] = dataframe.kW/capacity \n",
    "    dataframe.loc[:,'kw_per_sq_ft'] = dataframe.kW/sq_ft\n",
    "    dataframe.loc[:,'week'] = [i//7 for i in range(len(dataframe))]\n",
    "    return dataframe"
   ]
  },
  {
   "cell_type": "code",
   "execution_count": 5,
   "id": "3f56cf56",
   "metadata": {},
   "outputs": [],
   "source": [
    "def plot_capacity(dataframe): \n",
    "    plt.bar(dataframe.index, dataframe.kw_per_person)\n",
    "    plt.show()"
   ]
  },
  {
   "cell_type": "code",
   "execution_count": 6,
   "id": "7e057c30",
   "metadata": {},
   "outputs": [],
   "source": [
    "def plot_sq_ft(dataframe): \n",
    "    plt.bar(dataframe.index, dataframe.kw_per_sq_ft)\n",
    "    plt.show()"
   ]
  },
  {
   "cell_type": "code",
   "execution_count": 7,
   "id": "c91942f3",
   "metadata": {},
   "outputs": [],
   "source": [
    "def remove_nulls(dataframe): \n",
    "    dataframe = dataframe[dataframe.kW.notnull()]\n",
    "    return dataframe"
   ]
  },
  {
   "cell_type": "code",
   "execution_count": 8,
   "id": "afba3e63",
   "metadata": {},
   "outputs": [],
   "source": [
    "def merge_temp_building(dataframe,temp): \n",
    "    dataframe['Date'] = pd.to_datetime(dataframe['date'])\n",
    "    dataframe.drop(columns=\"date\", inplace = True)\n",
    "    new = dataframe.merge(temp, how='left', on = 'Date')\n",
    "    return new"
   ]
  },
  {
   "cell_type": "markdown",
   "id": "79ef137e",
   "metadata": {},
   "source": [
    "### Load in Temperature Data"
   ]
  },
  {
   "cell_type": "code",
   "execution_count": 9,
   "id": "de09682e",
   "metadata": {},
   "outputs": [],
   "source": [
    "temp = pd.read_csv(\"temperature.csv\")"
   ]
  },
  {
   "cell_type": "code",
   "execution_count": 10,
   "id": "fd6ab801",
   "metadata": {},
   "outputs": [],
   "source": [
    "temp['Date'] = pd.to_datetime(temp['Date time'])"
   ]
  },
  {
   "cell_type": "code",
   "execution_count": 11,
   "id": "3dfe0458",
   "metadata": {},
   "outputs": [],
   "source": [
    "temp.drop(columns={\"Date time\",'Wind Chill','Heat Index','Precipitation','Snow','Snow Depth','Wind Speed',\n",
    "          'Wind Direction','Wind Gust', 'Visibility','Cloud Cover','Relative Humidity','Conditions', 'Name'}, inplace = True)"
   ]
  },
  {
   "cell_type": "code",
   "execution_count": 12,
   "id": "cb00e458",
   "metadata": {},
   "outputs": [],
   "source": [
    "temp.rename(columns={\"Maximum Temperature\":\"max_temp\",\"Minimum Temperature\":\"min_temp\",\n",
    "                     \"Temperature\":\"average_temp\"}, inplace=True)"
   ]
  },
  {
   "cell_type": "markdown",
   "id": "ac35a52a",
   "metadata": {},
   "source": [
    "## By Capacity"
   ]
  },
  {
   "cell_type": "code",
   "execution_count": 13,
   "id": "ebe45cd3",
   "metadata": {
    "scrolled": false
   },
   "outputs": [
    {
     "data": {
      "text/html": [
       "<div>\n",
       "<style scoped>\n",
       "    .dataframe tbody tr th:only-of-type {\n",
       "        vertical-align: middle;\n",
       "    }\n",
       "\n",
       "    .dataframe tbody tr th {\n",
       "        vertical-align: top;\n",
       "    }\n",
       "\n",
       "    .dataframe thead th {\n",
       "        text-align: right;\n",
       "    }\n",
       "</style>\n",
       "<table border=\"1\" class=\"dataframe\">\n",
       "  <thead>\n",
       "    <tr style=\"text-align: right;\">\n",
       "      <th></th>\n",
       "      <th>day</th>\n",
       "      <th>date</th>\n",
       "      <th>kWh</th>\n",
       "      <th>kW</th>\n",
       "      <th>occupied</th>\n",
       "      <th>kw_per_person</th>\n",
       "      <th>kw_per_sq_ft</th>\n",
       "      <th>week</th>\n",
       "    </tr>\n",
       "  </thead>\n",
       "  <tbody>\n",
       "    <tr>\n",
       "      <th>0</th>\n",
       "      <td>0</td>\n",
       "      <td>1/1/2020 12:00:00 AM</td>\n",
       "      <td>1,439.9760</td>\n",
       "      <td>80.640</td>\n",
       "      <td>0.0</td>\n",
       "      <td>0.544865</td>\n",
       "      <td>1.442576</td>\n",
       "      <td>0</td>\n",
       "    </tr>\n",
       "    <tr>\n",
       "      <th>1</th>\n",
       "      <td>1</td>\n",
       "      <td>1/2/2020 12:00:00 AM</td>\n",
       "      <td>1,325.8080</td>\n",
       "      <td>68.064</td>\n",
       "      <td>0.0</td>\n",
       "      <td>0.459892</td>\n",
       "      <td>1.217603</td>\n",
       "      <td>0</td>\n",
       "    </tr>\n",
       "    <tr>\n",
       "      <th>2</th>\n",
       "      <td>2</td>\n",
       "      <td>1/4/2020 12:00:00 AM</td>\n",
       "      <td>1,340.0880</td>\n",
       "      <td>71.040</td>\n",
       "      <td>0.0</td>\n",
       "      <td>0.480000</td>\n",
       "      <td>1.270841</td>\n",
       "      <td>0</td>\n",
       "    </tr>\n",
       "    <tr>\n",
       "      <th>3</th>\n",
       "      <td>3</td>\n",
       "      <td>1/5/2020 12:00:00 AM</td>\n",
       "      <td>1,432.7040</td>\n",
       "      <td>69.120</td>\n",
       "      <td>0.0</td>\n",
       "      <td>0.467027</td>\n",
       "      <td>1.236494</td>\n",
       "      <td>0</td>\n",
       "    </tr>\n",
       "    <tr>\n",
       "      <th>4</th>\n",
       "      <td>4</td>\n",
       "      <td>1/6/2020 12:00:00 AM</td>\n",
       "      <td>1,570.9921</td>\n",
       "      <td>101.760</td>\n",
       "      <td>1.0</td>\n",
       "      <td>0.687568</td>\n",
       "      <td>1.820394</td>\n",
       "      <td>0</td>\n",
       "    </tr>\n",
       "  </tbody>\n",
       "</table>\n",
       "</div>"
      ],
      "text/plain": [
       "   day                  date         kWh       kW  occupied  kw_per_person  \\\n",
       "0    0  1/1/2020 12:00:00 AM  1,439.9760   80.640       0.0       0.544865   \n",
       "1    1  1/2/2020 12:00:00 AM  1,325.8080   68.064       0.0       0.459892   \n",
       "2    2  1/4/2020 12:00:00 AM  1,340.0880   71.040       0.0       0.480000   \n",
       "3    3  1/5/2020 12:00:00 AM  1,432.7040   69.120       0.0       0.467027   \n",
       "4    4  1/6/2020 12:00:00 AM  1,570.9921  101.760       1.0       0.687568   \n",
       "\n",
       "   kw_per_sq_ft  week  \n",
       "0      1.442576     0  \n",
       "1      1.217603     0  \n",
       "2      1.270841     0  \n",
       "3      1.236494     0  \n",
       "4      1.820394     0  "
      ]
     },
     "execution_count": 13,
     "metadata": {},
     "output_type": "execute_result"
    }
   ],
   "source": [
    "pearl = pd.read_csv(\"pearl_daily.csv\")\n",
    "pearl = remove_nulls(pearl)\n",
    "add_occupancy(pearl)\n",
    "pearl.reset_index(inplace = True) \n",
    "rename_cols(pearl)\n",
    "add_capacity_and_sqft(pearl,148,55.900)\n",
    "pearl.head()"
   ]
  },
  {
   "cell_type": "code",
   "execution_count": 14,
   "id": "4d155733",
   "metadata": {
    "scrolled": true
   },
   "outputs": [],
   "source": [
    "pearl = merge_temp_building(pearl,temp)"
   ]
  },
  {
   "cell_type": "code",
   "execution_count": 15,
   "id": "b6639e08",
   "metadata": {},
   "outputs": [
    {
     "data": {
      "text/plain": [
       "0.7405334514842721"
      ]
     },
     "execution_count": 15,
     "metadata": {},
     "output_type": "execute_result"
    }
   ],
   "source": [
    "pearl['kw_per_person'].mean()"
   ]
  },
  {
   "cell_type": "code",
   "execution_count": 16,
   "id": "a632c4b7",
   "metadata": {},
   "outputs": [
    {
     "data": {
      "text/plain": [
       "1.9606252382767855"
      ]
     },
     "execution_count": 16,
     "metadata": {},
     "output_type": "execute_result"
    }
   ],
   "source": [
    "pearl['kw_per_sq_ft'].mean()"
   ]
  },
  {
   "cell_type": "code",
   "execution_count": 17,
   "id": "a66b0b8c",
   "metadata": {},
   "outputs": [],
   "source": [
    "pearl.to_csv(\"pearl.csv\")"
   ]
  },
  {
   "cell_type": "code",
   "execution_count": 18,
   "id": "8fb84da5",
   "metadata": {
    "scrolled": true
   },
   "outputs": [
    {
     "data": {
      "text/html": [
       "<table class=\"simpletable\">\n",
       "<caption>OLS Regression Results</caption>\n",
       "<tr>\n",
       "  <th>Dep. Variable:</th>      <td>kw_per_person</td>  <th>  R-squared:         </th> <td>   0.191</td>\n",
       "</tr>\n",
       "<tr>\n",
       "  <th>Model:</th>                   <td>OLS</td>       <th>  Adj. R-squared:    </th> <td>   0.186</td>\n",
       "</tr>\n",
       "<tr>\n",
       "  <th>Method:</th>             <td>Least Squares</td>  <th>  F-statistic:       </th> <td>   38.18</td>\n",
       "</tr>\n",
       "<tr>\n",
       "  <th>Date:</th>             <td>Sun, 09 May 2021</td> <th>  Prob (F-statistic):</th> <td>3.70e-22</td>\n",
       "</tr>\n",
       "<tr>\n",
       "  <th>Time:</th>                 <td>16:15:28</td>     <th>  Log-Likelihood:    </th> <td>  262.30</td>\n",
       "</tr>\n",
       "<tr>\n",
       "  <th>No. Observations:</th>      <td>   488</td>      <th>  AIC:               </th> <td>  -516.6</td>\n",
       "</tr>\n",
       "<tr>\n",
       "  <th>Df Residuals:</th>          <td>   484</td>      <th>  BIC:               </th> <td>  -499.8</td>\n",
       "</tr>\n",
       "<tr>\n",
       "  <th>Df Model:</th>              <td>     3</td>      <th>                     </th>     <td> </td>   \n",
       "</tr>\n",
       "<tr>\n",
       "  <th>Covariance Type:</th>      <td>nonrobust</td>    <th>                     </th>     <td> </td>   \n",
       "</tr>\n",
       "</table>\n",
       "<table class=\"simpletable\">\n",
       "<tr>\n",
       "      <td></td>         <th>coef</th>     <th>std err</th>      <th>t</th>      <th>P>|t|</th>  <th>[0.025</th>    <th>0.975]</th>  \n",
       "</tr>\n",
       "<tr>\n",
       "  <th>Intercept</th> <td>    0.5514</td> <td>    0.028</td> <td>   19.681</td> <td> 0.000</td> <td>    0.496</td> <td>    0.606</td>\n",
       "</tr>\n",
       "<tr>\n",
       "  <th>week</th>      <td>    0.0008</td> <td>    0.000</td> <td>    2.295</td> <td> 0.022</td> <td>    0.000</td> <td>    0.001</td>\n",
       "</tr>\n",
       "<tr>\n",
       "  <th>occupied</th>  <td>    0.1466</td> <td>    0.017</td> <td>    8.622</td> <td> 0.000</td> <td>    0.113</td> <td>    0.180</td>\n",
       "</tr>\n",
       "<tr>\n",
       "  <th>min_temp</th>  <td>    0.0013</td> <td>    0.000</td> <td>    2.971</td> <td> 0.003</td> <td>    0.000</td> <td>    0.002</td>\n",
       "</tr>\n",
       "</table>\n",
       "<table class=\"simpletable\">\n",
       "<tr>\n",
       "  <th>Omnibus:</th>       <td> 8.348</td> <th>  Durbin-Watson:     </th> <td>   0.523</td>\n",
       "</tr>\n",
       "<tr>\n",
       "  <th>Prob(Omnibus):</th> <td> 0.015</td> <th>  Jarque-Bera (JB):  </th> <td>   5.835</td>\n",
       "</tr>\n",
       "<tr>\n",
       "  <th>Skew:</th>          <td>-0.133</td> <th>  Prob(JB):          </th> <td>  0.0541</td>\n",
       "</tr>\n",
       "<tr>\n",
       "  <th>Kurtosis:</th>      <td> 2.535</td> <th>  Cond. No.          </th> <td>    271.</td>\n",
       "</tr>\n",
       "</table><br/><br/>Notes:<br/>[1] Standard Errors assume that the covariance matrix of the errors is correctly specified."
      ],
      "text/plain": [
       "<class 'statsmodels.iolib.summary.Summary'>\n",
       "\"\"\"\n",
       "                            OLS Regression Results                            \n",
       "==============================================================================\n",
       "Dep. Variable:          kw_per_person   R-squared:                       0.191\n",
       "Model:                            OLS   Adj. R-squared:                  0.186\n",
       "Method:                 Least Squares   F-statistic:                     38.18\n",
       "Date:                Sun, 09 May 2021   Prob (F-statistic):           3.70e-22\n",
       "Time:                        16:15:28   Log-Likelihood:                 262.30\n",
       "No. Observations:                 488   AIC:                            -516.6\n",
       "Df Residuals:                     484   BIC:                            -499.8\n",
       "Df Model:                           3                                         \n",
       "Covariance Type:            nonrobust                                         \n",
       "==============================================================================\n",
       "                 coef    std err          t      P>|t|      [0.025      0.975]\n",
       "------------------------------------------------------------------------------\n",
       "Intercept      0.5514      0.028     19.681      0.000       0.496       0.606\n",
       "week           0.0008      0.000      2.295      0.022       0.000       0.001\n",
       "occupied       0.1466      0.017      8.622      0.000       0.113       0.180\n",
       "min_temp       0.0013      0.000      2.971      0.003       0.000       0.002\n",
       "==============================================================================\n",
       "Omnibus:                        8.348   Durbin-Watson:                   0.523\n",
       "Prob(Omnibus):                  0.015   Jarque-Bera (JB):                5.835\n",
       "Skew:                          -0.133   Prob(JB):                       0.0541\n",
       "Kurtosis:                       2.535   Cond. No.                         271.\n",
       "==============================================================================\n",
       "\n",
       "Notes:\n",
       "[1] Standard Errors assume that the covariance matrix of the errors is correctly specified.\n",
       "\"\"\""
      ]
     },
     "execution_count": 18,
     "metadata": {},
     "output_type": "execute_result"
    }
   ],
   "source": [
    "model = smf.ols(formula = 'kw_per_person ~ week + occupied + min_temp ', data = pearl).fit()\n",
    "model.summary()"
   ]
  },
  {
   "cell_type": "code",
   "execution_count": 19,
   "id": "e56f7d8b",
   "metadata": {
    "scrolled": true
   },
   "outputs": [
    {
     "data": {
      "text/html": [
       "<div>\n",
       "<style scoped>\n",
       "    .dataframe tbody tr th:only-of-type {\n",
       "        vertical-align: middle;\n",
       "    }\n",
       "\n",
       "    .dataframe tbody tr th {\n",
       "        vertical-align: top;\n",
       "    }\n",
       "\n",
       "    .dataframe thead th {\n",
       "        text-align: right;\n",
       "    }\n",
       "</style>\n",
       "<table border=\"1\" class=\"dataframe\">\n",
       "  <thead>\n",
       "    <tr style=\"text-align: right;\">\n",
       "      <th></th>\n",
       "      <th>day</th>\n",
       "      <th>date</th>\n",
       "      <th>kWh</th>\n",
       "      <th>kW</th>\n",
       "      <th>occupied</th>\n",
       "      <th>kw_per_person</th>\n",
       "      <th>kw_per_sq_ft</th>\n",
       "      <th>week</th>\n",
       "    </tr>\n",
       "  </thead>\n",
       "  <tbody>\n",
       "    <tr>\n",
       "      <th>0</th>\n",
       "      <td>0</td>\n",
       "      <td>1/1/2020 12:00:00 AM</td>\n",
       "      <td>991.8840</td>\n",
       "      <td>44.640</td>\n",
       "      <td>0.0</td>\n",
       "      <td>0.437647</td>\n",
       "      <td>1.248183</td>\n",
       "      <td>0</td>\n",
       "    </tr>\n",
       "    <tr>\n",
       "      <th>1</th>\n",
       "      <td>1</td>\n",
       "      <td>1/2/2020 12:00:00 AM</td>\n",
       "      <td>930.1320</td>\n",
       "      <td>43.680</td>\n",
       "      <td>0.0</td>\n",
       "      <td>0.428235</td>\n",
       "      <td>1.221340</td>\n",
       "      <td>0</td>\n",
       "    </tr>\n",
       "    <tr>\n",
       "      <th>2</th>\n",
       "      <td>2</td>\n",
       "      <td>1/3/2020 12:00:00 AM</td>\n",
       "      <td>862.2360</td>\n",
       "      <td>40.320</td>\n",
       "      <td>0.0</td>\n",
       "      <td>0.395294</td>\n",
       "      <td>1.127391</td>\n",
       "      <td>0</td>\n",
       "    </tr>\n",
       "    <tr>\n",
       "      <th>3</th>\n",
       "      <td>3</td>\n",
       "      <td>1/4/2020 12:00:00 AM</td>\n",
       "      <td>1,003.2240</td>\n",
       "      <td>59.520</td>\n",
       "      <td>0.0</td>\n",
       "      <td>0.583529</td>\n",
       "      <td>1.664243</td>\n",
       "      <td>0</td>\n",
       "    </tr>\n",
       "    <tr>\n",
       "      <th>4</th>\n",
       "      <td>4</td>\n",
       "      <td>1/5/2020 12:00:00 AM</td>\n",
       "      <td>1,217.2321</td>\n",
       "      <td>66.240</td>\n",
       "      <td>1.0</td>\n",
       "      <td>0.649412</td>\n",
       "      <td>1.852142</td>\n",
       "      <td>0</td>\n",
       "    </tr>\n",
       "    <tr>\n",
       "      <th>...</th>\n",
       "      <td>...</td>\n",
       "      <td>...</td>\n",
       "      <td>...</td>\n",
       "      <td>...</td>\n",
       "      <td>...</td>\n",
       "      <td>...</td>\n",
       "      <td>...</td>\n",
       "      <td>...</td>\n",
       "    </tr>\n",
       "    <tr>\n",
       "      <th>484</th>\n",
       "      <td>484</td>\n",
       "      <td>4/29/2021 12:00:00 AM</td>\n",
       "      <td>1,275.9960</td>\n",
       "      <td>70.080</td>\n",
       "      <td>1.0</td>\n",
       "      <td>0.687059</td>\n",
       "      <td>1.959512</td>\n",
       "      <td>69</td>\n",
       "    </tr>\n",
       "    <tr>\n",
       "      <th>485</th>\n",
       "      <td>485</td>\n",
       "      <td>4/30/2021 12:00:00 AM</td>\n",
       "      <td>1,143.5520</td>\n",
       "      <td>59.520</td>\n",
       "      <td>1.0</td>\n",
       "      <td>0.583529</td>\n",
       "      <td>1.664243</td>\n",
       "      <td>69</td>\n",
       "    </tr>\n",
       "    <tr>\n",
       "      <th>486</th>\n",
       "      <td>486</td>\n",
       "      <td>5/1/2021 12:00:00 AM</td>\n",
       "      <td>1,070.7000</td>\n",
       "      <td>55.200</td>\n",
       "      <td>1.0</td>\n",
       "      <td>0.541176</td>\n",
       "      <td>1.543452</td>\n",
       "      <td>69</td>\n",
       "    </tr>\n",
       "    <tr>\n",
       "      <th>487</th>\n",
       "      <td>487</td>\n",
       "      <td>5/2/2021 12:00:00 AM</td>\n",
       "      <td>1,196.7000</td>\n",
       "      <td>65.760</td>\n",
       "      <td>1.0</td>\n",
       "      <td>0.644706</td>\n",
       "      <td>1.838721</td>\n",
       "      <td>69</td>\n",
       "    </tr>\n",
       "    <tr>\n",
       "      <th>488</th>\n",
       "      <td>488</td>\n",
       "      <td>5/3/2021 12:00:00 AM</td>\n",
       "      <td>1,244.8440</td>\n",
       "      <td>68.592</td>\n",
       "      <td>1.0</td>\n",
       "      <td>0.672471</td>\n",
       "      <td>1.917906</td>\n",
       "      <td>69</td>\n",
       "    </tr>\n",
       "  </tbody>\n",
       "</table>\n",
       "<p>489 rows × 8 columns</p>\n",
       "</div>"
      ],
      "text/plain": [
       "     day                   date         kWh      kW  occupied  kw_per_person  \\\n",
       "0      0   1/1/2020 12:00:00 AM    991.8840  44.640       0.0       0.437647   \n",
       "1      1   1/2/2020 12:00:00 AM    930.1320  43.680       0.0       0.428235   \n",
       "2      2   1/3/2020 12:00:00 AM    862.2360  40.320       0.0       0.395294   \n",
       "3      3   1/4/2020 12:00:00 AM  1,003.2240  59.520       0.0       0.583529   \n",
       "4      4   1/5/2020 12:00:00 AM  1,217.2321  66.240       1.0       0.649412   \n",
       "..   ...                    ...         ...     ...       ...            ...   \n",
       "484  484  4/29/2021 12:00:00 AM  1,275.9960  70.080       1.0       0.687059   \n",
       "485  485  4/30/2021 12:00:00 AM  1,143.5520  59.520       1.0       0.583529   \n",
       "486  486   5/1/2021 12:00:00 AM  1,070.7000  55.200       1.0       0.541176   \n",
       "487  487   5/2/2021 12:00:00 AM  1,196.7000  65.760       1.0       0.644706   \n",
       "488  488   5/3/2021 12:00:00 AM  1,244.8440  68.592       1.0       0.672471   \n",
       "\n",
       "     kw_per_sq_ft  week  \n",
       "0        1.248183     0  \n",
       "1        1.221340     0  \n",
       "2        1.127391     0  \n",
       "3        1.664243     0  \n",
       "4        1.852142     0  \n",
       "..            ...   ...  \n",
       "484      1.959512    69  \n",
       "485      1.664243    69  \n",
       "486      1.543452    69  \n",
       "487      1.838721    69  \n",
       "488      1.917906    69  \n",
       "\n",
       "[489 rows x 8 columns]"
      ]
     },
     "execution_count": 19,
     "metadata": {},
     "output_type": "execute_result"
    }
   ],
   "source": [
    "breck = pd.read_csv(\"breck_daily.csv\")\n",
    "breck = remove_nulls(breck)\n",
    "add_occupancy(breck)\n",
    "breck.reset_index(drop=True,inplace = True) \n",
    "breck.reset_index(inplace=True)\n",
    "rename_cols(breck)\n",
    "add_capacity_and_sqft(breck,102,35.764)"
   ]
  },
  {
   "cell_type": "code",
   "execution_count": 20,
   "id": "08ae2beb",
   "metadata": {},
   "outputs": [],
   "source": [
    "breck = merge_temp_building(breck,temp)"
   ]
  },
  {
   "cell_type": "code",
   "execution_count": 21,
   "id": "a72ea8fd",
   "metadata": {},
   "outputs": [],
   "source": [
    "breck.to_csv(\"breck.csv\")"
   ]
  },
  {
   "cell_type": "code",
   "execution_count": 22,
   "id": "8ef9595f",
   "metadata": {},
   "outputs": [
    {
     "data": {
      "text/plain": [
       "0.5895768074100802"
      ]
     },
     "execution_count": 22,
     "metadata": {},
     "output_type": "execute_result"
    }
   ],
   "source": [
    "breck['kw_per_person'].mean()"
   ]
  },
  {
   "cell_type": "code",
   "execution_count": 23,
   "id": "c20e4a33",
   "metadata": {},
   "outputs": [
    {
     "data": {
      "text/plain": [
       "1.6814907268713872"
      ]
     },
     "execution_count": 23,
     "metadata": {},
     "output_type": "execute_result"
    }
   ],
   "source": [
    "breck['kw_per_sq_ft'].mean()"
   ]
  },
  {
   "cell_type": "code",
   "execution_count": 24,
   "id": "e7762c15",
   "metadata": {},
   "outputs": [
    {
     "data": {
      "text/html": [
       "<div>\n",
       "<style scoped>\n",
       "    .dataframe tbody tr th:only-of-type {\n",
       "        vertical-align: middle;\n",
       "    }\n",
       "\n",
       "    .dataframe tbody tr th {\n",
       "        vertical-align: top;\n",
       "    }\n",
       "\n",
       "    .dataframe thead th {\n",
       "        text-align: right;\n",
       "    }\n",
       "</style>\n",
       "<table border=\"1\" class=\"dataframe\">\n",
       "  <thead>\n",
       "    <tr style=\"text-align: right;\">\n",
       "      <th></th>\n",
       "      <th>day</th>\n",
       "      <th>date</th>\n",
       "      <th>kWh</th>\n",
       "      <th>kW</th>\n",
       "      <th>occupied</th>\n",
       "      <th>kw_per_person</th>\n",
       "      <th>kw_per_sq_ft</th>\n",
       "      <th>week</th>\n",
       "    </tr>\n",
       "  </thead>\n",
       "  <tbody>\n",
       "    <tr>\n",
       "      <th>0</th>\n",
       "      <td>0</td>\n",
       "      <td>1/1/2020 12:00:00 AM</td>\n",
       "      <td>792.2000</td>\n",
       "      <td>36.00</td>\n",
       "      <td>0.0</td>\n",
       "      <td>0.375000</td>\n",
       "      <td>1.737452</td>\n",
       "      <td>0</td>\n",
       "    </tr>\n",
       "    <tr>\n",
       "      <th>1</th>\n",
       "      <td>1</td>\n",
       "      <td>1/2/2020 12:00:00 AM</td>\n",
       "      <td>782.0600</td>\n",
       "      <td>36.80</td>\n",
       "      <td>0.0</td>\n",
       "      <td>0.383333</td>\n",
       "      <td>1.776062</td>\n",
       "      <td>0</td>\n",
       "    </tr>\n",
       "    <tr>\n",
       "      <th>2</th>\n",
       "      <td>2</td>\n",
       "      <td>1/4/2020 12:00:00 AM</td>\n",
       "      <td>776.4600</td>\n",
       "      <td>35.20</td>\n",
       "      <td>0.0</td>\n",
       "      <td>0.366667</td>\n",
       "      <td>1.698842</td>\n",
       "      <td>0</td>\n",
       "    </tr>\n",
       "    <tr>\n",
       "      <th>3</th>\n",
       "      <td>3</td>\n",
       "      <td>1/5/2020 12:00:00 AM</td>\n",
       "      <td>816.2400</td>\n",
       "      <td>49.60</td>\n",
       "      <td>0.0</td>\n",
       "      <td>0.516667</td>\n",
       "      <td>2.393822</td>\n",
       "      <td>0</td>\n",
       "    </tr>\n",
       "    <tr>\n",
       "      <th>4</th>\n",
       "      <td>4</td>\n",
       "      <td>1/6/2020 12:00:00 AM</td>\n",
       "      <td>927.6400</td>\n",
       "      <td>56.00</td>\n",
       "      <td>1.0</td>\n",
       "      <td>0.583333</td>\n",
       "      <td>2.702703</td>\n",
       "      <td>0</td>\n",
       "    </tr>\n",
       "    <tr>\n",
       "      <th>...</th>\n",
       "      <td>...</td>\n",
       "      <td>...</td>\n",
       "      <td>...</td>\n",
       "      <td>...</td>\n",
       "      <td>...</td>\n",
       "      <td>...</td>\n",
       "      <td>...</td>\n",
       "      <td>...</td>\n",
       "    </tr>\n",
       "    <tr>\n",
       "      <th>483</th>\n",
       "      <td>483</td>\n",
       "      <td>4/29/2021 12:00:00 AM</td>\n",
       "      <td>1,220.9800</td>\n",
       "      <td>65.60</td>\n",
       "      <td>1.0</td>\n",
       "      <td>0.683333</td>\n",
       "      <td>3.166023</td>\n",
       "      <td>69</td>\n",
       "    </tr>\n",
       "    <tr>\n",
       "      <th>484</th>\n",
       "      <td>484</td>\n",
       "      <td>4/30/2021 12:00:00 AM</td>\n",
       "      <td>1,185.0800</td>\n",
       "      <td>69.52</td>\n",
       "      <td>1.0</td>\n",
       "      <td>0.724167</td>\n",
       "      <td>3.355212</td>\n",
       "      <td>69</td>\n",
       "    </tr>\n",
       "    <tr>\n",
       "      <th>485</th>\n",
       "      <td>485</td>\n",
       "      <td>5/1/2021 12:00:00 AM</td>\n",
       "      <td>1,115.9800</td>\n",
       "      <td>62.40</td>\n",
       "      <td>1.0</td>\n",
       "      <td>0.650000</td>\n",
       "      <td>3.011583</td>\n",
       "      <td>69</td>\n",
       "    </tr>\n",
       "    <tr>\n",
       "      <th>486</th>\n",
       "      <td>486</td>\n",
       "      <td>5/2/2021 12:00:00 AM</td>\n",
       "      <td>1,155.4200</td>\n",
       "      <td>61.60</td>\n",
       "      <td>1.0</td>\n",
       "      <td>0.641667</td>\n",
       "      <td>2.972973</td>\n",
       "      <td>69</td>\n",
       "    </tr>\n",
       "    <tr>\n",
       "      <th>487</th>\n",
       "      <td>487</td>\n",
       "      <td>5/3/2021 12:00:00 AM</td>\n",
       "      <td>1,128.5200</td>\n",
       "      <td>62.40</td>\n",
       "      <td>1.0</td>\n",
       "      <td>0.650000</td>\n",
       "      <td>3.011583</td>\n",
       "      <td>69</td>\n",
       "    </tr>\n",
       "  </tbody>\n",
       "</table>\n",
       "<p>488 rows × 8 columns</p>\n",
       "</div>"
      ],
      "text/plain": [
       "     day                   date         kWh     kW  occupied  kw_per_person  \\\n",
       "0      0   1/1/2020 12:00:00 AM    792.2000  36.00       0.0       0.375000   \n",
       "1      1   1/2/2020 12:00:00 AM    782.0600  36.80       0.0       0.383333   \n",
       "2      2   1/4/2020 12:00:00 AM    776.4600  35.20       0.0       0.366667   \n",
       "3      3   1/5/2020 12:00:00 AM    816.2400  49.60       0.0       0.516667   \n",
       "4      4   1/6/2020 12:00:00 AM    927.6400  56.00       1.0       0.583333   \n",
       "..   ...                    ...         ...    ...       ...            ...   \n",
       "483  483  4/29/2021 12:00:00 AM  1,220.9800  65.60       1.0       0.683333   \n",
       "484  484  4/30/2021 12:00:00 AM  1,185.0800  69.52       1.0       0.724167   \n",
       "485  485   5/1/2021 12:00:00 AM  1,115.9800  62.40       1.0       0.650000   \n",
       "486  486   5/2/2021 12:00:00 AM  1,155.4200  61.60       1.0       0.641667   \n",
       "487  487   5/3/2021 12:00:00 AM  1,128.5200  62.40       1.0       0.650000   \n",
       "\n",
       "     kw_per_sq_ft  week  \n",
       "0        1.737452     0  \n",
       "1        1.776062     0  \n",
       "2        1.698842     0  \n",
       "3        2.393822     0  \n",
       "4        2.702703     0  \n",
       "..            ...   ...  \n",
       "483      3.166023    69  \n",
       "484      3.355212    69  \n",
       "485      3.011583    69  \n",
       "486      2.972973    69  \n",
       "487      3.011583    69  \n",
       "\n",
       "[488 rows x 8 columns]"
      ]
     },
     "execution_count": 24,
     "metadata": {},
     "output_type": "execute_result"
    }
   ],
   "source": [
    "yerkes = pd.read_csv(\"yerkes_daily.csv\")\n",
    "yerkes = remove_nulls(yerkes)\n",
    "add_occupancy(yerkes)\n",
    "yerkes.reset_index(drop=True,inplace = True) \n",
    "yerkes.reset_index(inplace=True)\n",
    "rename_cols(yerkes)\n",
    "add_capacity_and_sqft(yerkes,96,20.720)"
   ]
  },
  {
   "cell_type": "code",
   "execution_count": 25,
   "id": "5de1b5f0",
   "metadata": {},
   "outputs": [],
   "source": [
    "yerkes = merge_temp_building(yerkes,temp)"
   ]
  },
  {
   "cell_type": "code",
   "execution_count": 26,
   "id": "70b98641",
   "metadata": {},
   "outputs": [],
   "source": [
    "yerkes.to_csv(\"yerkes.csv\")"
   ]
  },
  {
   "cell_type": "code",
   "execution_count": 27,
   "id": "23c33d68",
   "metadata": {},
   "outputs": [
    {
     "data": {
      "text/plain": [
       "0.5003142076502735"
      ]
     },
     "execution_count": 27,
     "metadata": {},
     "output_type": "execute_result"
    }
   ],
   "source": [
    "yerkes['kw_per_person'].mean()"
   ]
  },
  {
   "cell_type": "code",
   "execution_count": 28,
   "id": "c5b62843",
   "metadata": {},
   "outputs": [
    {
     "data": {
      "text/plain": [
       "2.3180581049433537"
      ]
     },
     "execution_count": 28,
     "metadata": {},
     "output_type": "execute_result"
    }
   ],
   "source": [
    "yerkes['kw_per_sq_ft'].mean()"
   ]
  },
  {
   "cell_type": "code",
   "execution_count": 29,
   "id": "21f5c29f",
   "metadata": {},
   "outputs": [
    {
     "data": {
      "text/html": [
       "<div>\n",
       "<style scoped>\n",
       "    .dataframe tbody tr th:only-of-type {\n",
       "        vertical-align: middle;\n",
       "    }\n",
       "\n",
       "    .dataframe tbody tr th {\n",
       "        vertical-align: top;\n",
       "    }\n",
       "\n",
       "    .dataframe thead th {\n",
       "        text-align: right;\n",
       "    }\n",
       "</style>\n",
       "<table border=\"1\" class=\"dataframe\">\n",
       "  <thead>\n",
       "    <tr style=\"text-align: right;\">\n",
       "      <th></th>\n",
       "      <th>day</th>\n",
       "      <th>date</th>\n",
       "      <th>kWh</th>\n",
       "      <th>kW</th>\n",
       "      <th>occupied</th>\n",
       "      <th>kw_per_person</th>\n",
       "      <th>kw_per_sq_ft</th>\n",
       "      <th>week</th>\n",
       "    </tr>\n",
       "  </thead>\n",
       "  <tbody>\n",
       "    <tr>\n",
       "      <th>0</th>\n",
       "      <td>0</td>\n",
       "      <td>1/1/2020 12:00:00 AM</td>\n",
       "      <td>765.0720</td>\n",
       "      <td>39.84</td>\n",
       "      <td>0.0</td>\n",
       "      <td>0.321290</td>\n",
       "      <td>0.840613</td>\n",
       "      <td>0</td>\n",
       "    </tr>\n",
       "    <tr>\n",
       "      <th>1</th>\n",
       "      <td>1</td>\n",
       "      <td>1/2/2020 12:00:00 AM</td>\n",
       "      <td>721.3680</td>\n",
       "      <td>44.64</td>\n",
       "      <td>0.0</td>\n",
       "      <td>0.360000</td>\n",
       "      <td>0.941891</td>\n",
       "      <td>0</td>\n",
       "    </tr>\n",
       "    <tr>\n",
       "      <th>2</th>\n",
       "      <td>2</td>\n",
       "      <td>1/4/2020 12:00:00 AM</td>\n",
       "      <td>736.1640</td>\n",
       "      <td>40.80</td>\n",
       "      <td>0.0</td>\n",
       "      <td>0.329032</td>\n",
       "      <td>0.860868</td>\n",
       "      <td>0</td>\n",
       "    </tr>\n",
       "    <tr>\n",
       "      <th>3</th>\n",
       "      <td>3</td>\n",
       "      <td>1/5/2020 12:00:00 AM</td>\n",
       "      <td>822.1680</td>\n",
       "      <td>46.56</td>\n",
       "      <td>0.0</td>\n",
       "      <td>0.375484</td>\n",
       "      <td>0.982403</td>\n",
       "      <td>0</td>\n",
       "    </tr>\n",
       "    <tr>\n",
       "      <th>4</th>\n",
       "      <td>4</td>\n",
       "      <td>1/6/2020 12:00:00 AM</td>\n",
       "      <td>1,012.2360</td>\n",
       "      <td>59.04</td>\n",
       "      <td>1.0</td>\n",
       "      <td>0.476129</td>\n",
       "      <td>1.245727</td>\n",
       "      <td>0</td>\n",
       "    </tr>\n",
       "    <tr>\n",
       "      <th>...</th>\n",
       "      <td>...</td>\n",
       "      <td>...</td>\n",
       "      <td>...</td>\n",
       "      <td>...</td>\n",
       "      <td>...</td>\n",
       "      <td>...</td>\n",
       "      <td>...</td>\n",
       "      <td>...</td>\n",
       "    </tr>\n",
       "    <tr>\n",
       "      <th>483</th>\n",
       "      <td>483</td>\n",
       "      <td>4/29/2021 12:00:00 AM</td>\n",
       "      <td>1,123.2480</td>\n",
       "      <td>73.92</td>\n",
       "      <td>1.0</td>\n",
       "      <td>0.596129</td>\n",
       "      <td>1.559691</td>\n",
       "      <td>69</td>\n",
       "    </tr>\n",
       "    <tr>\n",
       "      <th>484</th>\n",
       "      <td>484</td>\n",
       "      <td>4/30/2021 12:00:00 AM</td>\n",
       "      <td>1,073.3521</td>\n",
       "      <td>75.36</td>\n",
       "      <td>1.0</td>\n",
       "      <td>0.607742</td>\n",
       "      <td>1.590075</td>\n",
       "      <td>69</td>\n",
       "    </tr>\n",
       "    <tr>\n",
       "      <th>485</th>\n",
       "      <td>485</td>\n",
       "      <td>5/1/2021 12:00:00 AM</td>\n",
       "      <td>972.8880</td>\n",
       "      <td>63.84</td>\n",
       "      <td>1.0</td>\n",
       "      <td>0.514839</td>\n",
       "      <td>1.347006</td>\n",
       "      <td>69</td>\n",
       "    </tr>\n",
       "    <tr>\n",
       "      <th>486</th>\n",
       "      <td>486</td>\n",
       "      <td>5/2/2021 12:00:00 AM</td>\n",
       "      <td>986.1000</td>\n",
       "      <td>62.88</td>\n",
       "      <td>1.0</td>\n",
       "      <td>0.507097</td>\n",
       "      <td>1.326750</td>\n",
       "      <td>69</td>\n",
       "    </tr>\n",
       "    <tr>\n",
       "      <th>487</th>\n",
       "      <td>487</td>\n",
       "      <td>5/3/2021 12:00:00 AM</td>\n",
       "      <td>1,102.6200</td>\n",
       "      <td>73.44</td>\n",
       "      <td>1.0</td>\n",
       "      <td>0.592258</td>\n",
       "      <td>1.549563</td>\n",
       "      <td>69</td>\n",
       "    </tr>\n",
       "  </tbody>\n",
       "</table>\n",
       "<p>488 rows × 8 columns</p>\n",
       "</div>"
      ],
      "text/plain": [
       "     day                   date         kWh     kW  occupied  kw_per_person  \\\n",
       "0      0   1/1/2020 12:00:00 AM    765.0720  39.84       0.0       0.321290   \n",
       "1      1   1/2/2020 12:00:00 AM    721.3680  44.64       0.0       0.360000   \n",
       "2      2   1/4/2020 12:00:00 AM    736.1640  40.80       0.0       0.329032   \n",
       "3      3   1/5/2020 12:00:00 AM    822.1680  46.56       0.0       0.375484   \n",
       "4      4   1/6/2020 12:00:00 AM  1,012.2360  59.04       1.0       0.476129   \n",
       "..   ...                    ...         ...    ...       ...            ...   \n",
       "483  483  4/29/2021 12:00:00 AM  1,123.2480  73.92       1.0       0.596129   \n",
       "484  484  4/30/2021 12:00:00 AM  1,073.3521  75.36       1.0       0.607742   \n",
       "485  485   5/1/2021 12:00:00 AM    972.8880  63.84       1.0       0.514839   \n",
       "486  486   5/2/2021 12:00:00 AM    986.1000  62.88       1.0       0.507097   \n",
       "487  487   5/3/2021 12:00:00 AM  1,102.6200  73.44       1.0       0.592258   \n",
       "\n",
       "     kw_per_sq_ft  week  \n",
       "0        0.840613     0  \n",
       "1        0.941891     0  \n",
       "2        0.860868     0  \n",
       "3        0.982403     0  \n",
       "4        1.245727     0  \n",
       "..            ...   ...  \n",
       "483      1.559691    69  \n",
       "484      1.590075    69  \n",
       "485      1.347006    69  \n",
       "486      1.326750    69  \n",
       "487      1.549563    69  \n",
       "\n",
       "[488 rows x 8 columns]"
      ]
     },
     "execution_count": 29,
     "metadata": {},
     "output_type": "execute_result"
    }
   ],
   "source": [
    "brock = pd.read_csv(\"brock_daily.csv\")\n",
    "brock = remove_nulls(brock)\n",
    "add_occupancy(brock)\n",
    "brock.reset_index(drop=True,inplace = True) \n",
    "brock.reset_index(inplace=True)\n",
    "rename_cols(brock)\n",
    "#brock.drop(368,inplace=True)\n",
    "add_capacity_and_sqft(brock,124,47.394)"
   ]
  },
  {
   "cell_type": "code",
   "execution_count": 30,
   "id": "a1bac2ac",
   "metadata": {},
   "outputs": [],
   "source": [
    "brock = merge_temp_building(brock,temp)"
   ]
  },
  {
   "cell_type": "code",
   "execution_count": 31,
   "id": "8171bca4",
   "metadata": {},
   "outputs": [],
   "source": [
    "brock.to_csv(\"brock.csv\")"
   ]
  },
  {
   "cell_type": "code",
   "execution_count": 32,
   "id": "4ad3ef37",
   "metadata": {},
   "outputs": [
    {
     "data": {
      "text/plain": [
       "0.5109629825489161"
      ]
     },
     "execution_count": 32,
     "metadata": {},
     "output_type": "execute_result"
    }
   ],
   "source": [
    "brock['kw_per_person'].mean()"
   ]
  },
  {
   "cell_type": "code",
   "execution_count": 33,
   "id": "ca3704c1",
   "metadata": {},
   "outputs": [
    {
     "data": {
      "text/plain": [
       "1.3368656335414935"
      ]
     },
     "execution_count": 33,
     "metadata": {},
     "output_type": "execute_result"
    }
   ],
   "source": [
    "brock['kw_per_sq_ft'].mean()"
   ]
  },
  {
   "cell_type": "code",
   "execution_count": 34,
   "id": "6a4cc1b9",
   "metadata": {},
   "outputs": [
    {
     "data": {
      "image/png": "[encoded data removed]",
      "text/plain": [
       "<Figure size 432x288 with 1 Axes>"
      ]
     },
     "metadata": {
      "needs_background": "light"
     },
     "output_type": "display_data"
    },
    {
     "data": {
      "image/png": "[encoded data removed]",
      "text/plain": [
       "<Figure size 432x288 with 1 Axes>"
      ]
     },
     "metadata": {
      "needs_background": "light"
     },
     "output_type": "display_data"
    },
    {
     "data": {
      "image/png": "[encoded data removed]",
      "text/plain": [
       "<Figure size 432x288 with 1 Axes>"
      ]
     },
     "metadata": {
      "needs_background": "light"
     },
     "output_type": "display_data"
    },
    {
     "data": {
      "image/png": "[encoded data removed]",
      "text/plain": [
       "<Figure size 432x288 with 1 Axes>"
      ]
     },
     "metadata": {
      "needs_background": "light"
     },
     "output_type": "display_data"
    }
   ],
   "source": [
    "plot_capacity(pearl)\n",
    "plot_capacity(brock)\n",
    "plot_capacity(breck)\n",
    "plot_capacity(yerkes)"
   ]
  },
  {
   "cell_type": "code",
   "execution_count": 35,
   "id": "75555e29",
   "metadata": {},
   "outputs": [
    {
     "data": {
      "image/png": "[encoded data removed]",
      "text/plain": [
       "<Figure size 432x288 with 1 Axes>"
      ]
     },
     "metadata": {
      "needs_background": "light"
     },
     "output_type": "display_data"
    },
    {
     "data": {
      "image/png": "[encoded data removed]",
      "text/plain": [
       "<Figure size 432x288 with 1 Axes>"
      ]
     },
     "metadata": {
      "needs_background": "light"
     },
     "output_type": "display_data"
    },
    {
     "data": {
      "image/png": "[encoded data removed]",
      "text/plain": [
       "<Figure size 432x288 with 1 Axes>"
      ]
     },
     "metadata": {
      "needs_background": "light"
     },
     "output_type": "display_data"
    },
    {
     "data": {
      "image/png": "[encoded data removed]",
      "text/plain": [
       "<Figure size 432x288 with 1 Axes>"
      ]
     },
     "metadata": {
      "needs_background": "light"
     },
     "output_type": "display_data"
    }
   ],
   "source": [
    "plot_sq_ft(pearl)\n",
    "plot_sq_ft(brock)\n",
    "plot_sq_ft(breck)\n",
    "plot_sq_ft(yerkes)"
   ]
  }
 ],
 "metadata": {
  "kernelspec": {
   "display_name": "Python 3 (ipykernel)",
   "language": "python",
   "name": "python3"
  },
  "language_info": {
   "codemirror_mode": {
    "name": "ipython",
    "version": 3
   },
   "file_extension": ".py",
   "mimetype": "text/x-python",
   "name": "python",
   "nbconvert_exporter": "python",
   "pygments_lexer": "ipython3",
   "version": "3.9.7"
  }
 },
 "nbformat": 4,
 "nbformat_minor": 5
}
